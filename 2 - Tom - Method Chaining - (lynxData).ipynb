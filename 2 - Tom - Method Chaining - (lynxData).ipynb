{
 "cells": [
  {
   "cell_type": "markdown",
   "metadata": {},
   "source": [
    "Link: https://tomaugspurger.github.io/method-chaining <br>\n",
    "        Conteudo: Pipe (...Completar)"
   ]
  },
  {
   "cell_type": "code",
   "execution_count": 1,
   "metadata": {},
   "outputs": [],
   "source": [
    "import pandas as pd"
   ]
  },
  {
   "cell_type": "code",
   "execution_count": 5,
   "metadata": {},
   "outputs": [],
   "source": [
    "eventos = pd.read_pickle('../Data/ecommerce-events.pkl')"
   ]
  },
  {
   "cell_type": "markdown",
   "metadata": {},
   "source": [
    "# Pipe:\n",
    "Simplificando a limpeza inicial do df"
   ]
  },
  {
   "cell_type": "code",
   "execution_count": 118,
   "metadata": {},
   "outputs": [
    {
     "ename": "SyntaxError",
     "evalue": "invalid syntax (<ipython-input-118-2c384a370624>, line 9)",
     "output_type": "error",
     "traceback": [
      "\u001b[1;36m  File \u001b[1;32m\"<ipython-input-118-2c384a370624>\"\u001b[1;36m, line \u001b[1;32m9\u001b[0m\n\u001b[1;33m    .(lambda x: pd.DataFrame(x))\u001b[0m\n\u001b[1;37m     ^\u001b[0m\n\u001b[1;31mSyntaxError\u001b[0m\u001b[1;31m:\u001b[0m invalid syntax\n"
     ]
    }
   ],
   "source": [
    "# Simulando problema 1, quanto foi arrecadado:\n",
    "\n",
    "#Primeiro, vamos por partes, e depois enfia tudo num pipe\n",
    "receita = (eventos.loc[eventos['eventType'] == 'transaction', ['orderItems']]\n",
    "           .reset_index()\n",
    "           .drop(['index'], axis=1)\n",
    "           .loc[:, 'orderItems']\n",
    "           .tolist()\n",
    "           \n",
    "           \n",
    "#            .apply(lambda x: pd.DataFrame(x))\n",
    "           \n",
    "           \n",
    "           #Nesse ponto, como eu referencio soh uma das colunas?\n",
    "           \n",
    "#           .apply(pd.DataFrame(pd.Series)\n",
    "#           .tolist()\n",
    "#           .apply(pd.DataFrame)\n",
    "          )\n",
    "receita.head()\n",
    "# type(receita)"
   ]
  },
  {
   "cell_type": "code",
   "execution_count": 74,
   "metadata": {},
   "outputs": [
    {
     "name": "stdout",
     "output_type": "stream",
     "text": [
      "<class 'pandas.core.frame.DataFrame'>\n"
     ]
    }
   ],
   "source": [
    "print(type(receita))\n",
    "# print(type(receita[0]))\n",
    "# print(type(receita[0][0]))"
   ]
  },
  {
   "cell_type": "markdown",
   "metadata": {},
   "source": [
    "## Péssimo metodo numero 1:\n",
    "Usando Construtores e List"
   ]
  },
  {
   "cell_type": "code",
   "execution_count": 98,
   "metadata": {},
   "outputs": [
    {
     "data": {
      "text/html": [
       "<div>\n",
       "<style scoped>\n",
       "    .dataframe tbody tr th:only-of-type {\n",
       "        vertical-align: middle;\n",
       "    }\n",
       "\n",
       "    .dataframe tbody tr th {\n",
       "        vertical-align: top;\n",
       "    }\n",
       "\n",
       "    .dataframe thead th {\n",
       "        text-align: right;\n",
       "    }\n",
       "</style>\n",
       "<table border=\"1\" class=\"dataframe\">\n",
       "  <thead>\n",
       "    <tr style=\"text-align: right;\">\n",
       "      <th></th>\n",
       "      <th>orderItems</th>\n",
       "    </tr>\n",
       "  </thead>\n",
       "  <tbody>\n",
       "    <tr>\n",
       "      <th>0</th>\n",
       "      <td>[{'product': 6461, 'price': 467.91, 'quantity'...</td>\n",
       "    </tr>\n",
       "    <tr>\n",
       "      <th>1</th>\n",
       "      <td>[{'product': 19168, 'price': 30.27, 'quantity'...</td>\n",
       "    </tr>\n",
       "    <tr>\n",
       "      <th>2</th>\n",
       "      <td>[{'product': 18143, 'price': 30.87, 'quantity'...</td>\n",
       "    </tr>\n",
       "    <tr>\n",
       "      <th>3</th>\n",
       "      <td>[{'product': 19925, 'price': 59.67, 'quantity'...</td>\n",
       "    </tr>\n",
       "    <tr>\n",
       "      <th>4</th>\n",
       "      <td>[{'product': 38, 'price': 129.9, 'quantity': 1...</td>\n",
       "    </tr>\n",
       "  </tbody>\n",
       "</table>\n",
       "</div>"
      ],
      "text/plain": [
       "                                          orderItems\n",
       "0  [{'product': 6461, 'price': 467.91, 'quantity'...\n",
       "1  [{'product': 19168, 'price': 30.27, 'quantity'...\n",
       "2  [{'product': 18143, 'price': 30.87, 'quantity'...\n",
       "3  [{'product': 19925, 'price': 59.67, 'quantity'...\n",
       "4  [{'product': 38, 'price': 129.9, 'quantity': 1..."
      ]
     },
     "execution_count": 98,
     "metadata": {},
     "output_type": "execute_result"
    }
   ],
   "source": [
    "receita = (eventos.loc[eventos['eventType'] == 'transaction', ['orderItems']]\n",
    "           .reset_index()\n",
    "           .drop(['index'], axis=1))\n",
    "receita.head()"
   ]
  },
  {
   "cell_type": "code",
   "execution_count": 101,
   "metadata": {},
   "outputs": [
    {
     "data": {
      "text/html": [
       "<div>\n",
       "<style scoped>\n",
       "    .dataframe tbody tr th:only-of-type {\n",
       "        vertical-align: middle;\n",
       "    }\n",
       "\n",
       "    .dataframe tbody tr th {\n",
       "        vertical-align: top;\n",
       "    }\n",
       "\n",
       "    .dataframe thead th {\n",
       "        text-align: right;\n",
       "    }\n",
       "</style>\n",
       "<table border=\"1\" class=\"dataframe\">\n",
       "  <thead>\n",
       "    <tr style=\"text-align: right;\">\n",
       "      <th></th>\n",
       "      <th>0</th>\n",
       "      <th>1</th>\n",
       "      <th>2</th>\n",
       "      <th>3</th>\n",
       "      <th>4</th>\n",
       "      <th>5</th>\n",
       "      <th>6</th>\n",
       "      <th>7</th>\n",
       "      <th>8</th>\n",
       "      <th>9</th>\n",
       "      <th>...</th>\n",
       "      <th>544</th>\n",
       "      <th>545</th>\n",
       "      <th>546</th>\n",
       "      <th>547</th>\n",
       "      <th>548</th>\n",
       "      <th>549</th>\n",
       "      <th>550</th>\n",
       "      <th>551</th>\n",
       "      <th>552</th>\n",
       "      <th>553</th>\n",
       "    </tr>\n",
       "  </thead>\n",
       "  <tbody>\n",
       "    <tr>\n",
       "      <th>orderItems</th>\n",
       "      <td>[{'product': 6461, 'price': 467.91, 'quantity'...</td>\n",
       "      <td>[{'product': 19168, 'price': 30.27, 'quantity'...</td>\n",
       "      <td>[{'product': 18143, 'price': 30.87, 'quantity'...</td>\n",
       "      <td>[{'product': 19925, 'price': 59.67, 'quantity'...</td>\n",
       "      <td>[{'product': 38, 'price': 129.9, 'quantity': 1...</td>\n",
       "      <td>[{'product': 19624, 'price': 44.9, 'quantity':...</td>\n",
       "      <td>[{'product': 20319, 'price': 53.01, 'quantity'...</td>\n",
       "      <td>[{'product': 38, 'price': 129.9, 'quantity': 1...</td>\n",
       "      <td>[{'product': 6932, 'price': 18.81, 'quantity':...</td>\n",
       "      <td>[{'product': 12841, 'price': 23.95, 'quantity'...</td>\n",
       "      <td>...</td>\n",
       "      <td>[{'product': 2085, 'price': 52.44, 'quantity':...</td>\n",
       "      <td>[{'product': 10174, 'price': 22.96, 'quantity'...</td>\n",
       "      <td>[{'product': 861, 'price': 29.9, 'quantity': 1...</td>\n",
       "      <td>[{'product': 4896, 'price': 247.89, 'quantity'...</td>\n",
       "      <td>[{'product': 19665, 'price': 36.89, 'quantity'...</td>\n",
       "      <td>[{'product': 14034, 'price': 12.51, 'quantity'...</td>\n",
       "      <td>[{'product': 9689, 'price': 209.61, 'quantity'...</td>\n",
       "      <td>[{'product': 12841, 'price': 23.95, 'quantity'...</td>\n",
       "      <td>[{'product': 20244, 'price': 9.9, 'quantity': ...</td>\n",
       "      <td>[{'product': 17961, 'price': 59.9, 'quantity':...</td>\n",
       "    </tr>\n",
       "  </tbody>\n",
       "</table>\n",
       "<p>1 rows × 554 columns</p>\n",
       "</div>"
      ],
      "text/plain": [
       "                                                          0    \\\n",
       "orderItems  [{'product': 6461, 'price': 467.91, 'quantity'...   \n",
       "\n",
       "                                                          1    \\\n",
       "orderItems  [{'product': 19168, 'price': 30.27, 'quantity'...   \n",
       "\n",
       "                                                          2    \\\n",
       "orderItems  [{'product': 18143, 'price': 30.87, 'quantity'...   \n",
       "\n",
       "                                                          3    \\\n",
       "orderItems  [{'product': 19925, 'price': 59.67, 'quantity'...   \n",
       "\n",
       "                                                          4    \\\n",
       "orderItems  [{'product': 38, 'price': 129.9, 'quantity': 1...   \n",
       "\n",
       "                                                          5    \\\n",
       "orderItems  [{'product': 19624, 'price': 44.9, 'quantity':...   \n",
       "\n",
       "                                                          6    \\\n",
       "orderItems  [{'product': 20319, 'price': 53.01, 'quantity'...   \n",
       "\n",
       "                                                          7    \\\n",
       "orderItems  [{'product': 38, 'price': 129.9, 'quantity': 1...   \n",
       "\n",
       "                                                          8    \\\n",
       "orderItems  [{'product': 6932, 'price': 18.81, 'quantity':...   \n",
       "\n",
       "                                                          9    \\\n",
       "orderItems  [{'product': 12841, 'price': 23.95, 'quantity'...   \n",
       "\n",
       "                                  ...                          \\\n",
       "orderItems                        ...                           \n",
       "\n",
       "                                                          544  \\\n",
       "orderItems  [{'product': 2085, 'price': 52.44, 'quantity':...   \n",
       "\n",
       "                                                          545  \\\n",
       "orderItems  [{'product': 10174, 'price': 22.96, 'quantity'...   \n",
       "\n",
       "                                                          546  \\\n",
       "orderItems  [{'product': 861, 'price': 29.9, 'quantity': 1...   \n",
       "\n",
       "                                                          547  \\\n",
       "orderItems  [{'product': 4896, 'price': 247.89, 'quantity'...   \n",
       "\n",
       "                                                          548  \\\n",
       "orderItems  [{'product': 19665, 'price': 36.89, 'quantity'...   \n",
       "\n",
       "                                                          549  \\\n",
       "orderItems  [{'product': 14034, 'price': 12.51, 'quantity'...   \n",
       "\n",
       "                                                          550  \\\n",
       "orderItems  [{'product': 9689, 'price': 209.61, 'quantity'...   \n",
       "\n",
       "                                                          551  \\\n",
       "orderItems  [{'product': 12841, 'price': 23.95, 'quantity'...   \n",
       "\n",
       "                                                          552  \\\n",
       "orderItems  [{'product': 20244, 'price': 9.9, 'quantity': ...   \n",
       "\n",
       "                                                          553  \n",
       "orderItems  [{'product': 17961, 'price': 59.9, 'quantity':...  \n",
       "\n",
       "[1 rows x 554 columns]"
      ]
     },
     "execution_count": 101,
     "metadata": {},
     "output_type": "execute_result"
    }
   ],
   "source": [
    "#Porque, Deus?\n",
    "teste = pd.DataFrame([receita['orderItems']])\n",
    "teste.head()"
   ]
  },
  {
   "cell_type": "code",
   "execution_count": 100,
   "metadata": {},
   "outputs": [
    {
     "data": {
      "text/html": [
       "<div>\n",
       "<style scoped>\n",
       "    .dataframe tbody tr th:only-of-type {\n",
       "        vertical-align: middle;\n",
       "    }\n",
       "\n",
       "    .dataframe tbody tr th {\n",
       "        vertical-align: top;\n",
       "    }\n",
       "\n",
       "    .dataframe thead th {\n",
       "        text-align: right;\n",
       "    }\n",
       "</style>\n",
       "<table border=\"1\" class=\"dataframe\">\n",
       "  <thead>\n",
       "    <tr style=\"text-align: right;\">\n",
       "      <th></th>\n",
       "      <th>0</th>\n",
       "      <th>1</th>\n",
       "      <th>2</th>\n",
       "      <th>3</th>\n",
       "      <th>4</th>\n",
       "      <th>5</th>\n",
       "      <th>6</th>\n",
       "      <th>7</th>\n",
       "      <th>8</th>\n",
       "      <th>9</th>\n",
       "      <th>10</th>\n",
       "      <th>11</th>\n",
       "      <th>12</th>\n",
       "      <th>13</th>\n",
       "      <th>14</th>\n",
       "      <th>15</th>\n",
       "    </tr>\n",
       "  </thead>\n",
       "  <tbody>\n",
       "    <tr>\n",
       "      <th>0</th>\n",
       "      <td>{'product': 6461, 'price': 467.91, 'quantity':...</td>\n",
       "      <td>None</td>\n",
       "      <td>None</td>\n",
       "      <td>None</td>\n",
       "      <td>None</td>\n",
       "      <td>None</td>\n",
       "      <td>None</td>\n",
       "      <td>None</td>\n",
       "      <td>None</td>\n",
       "      <td>None</td>\n",
       "      <td>None</td>\n",
       "      <td>None</td>\n",
       "      <td>None</td>\n",
       "      <td>None</td>\n",
       "      <td>None</td>\n",
       "      <td>None</td>\n",
       "    </tr>\n",
       "    <tr>\n",
       "      <th>1</th>\n",
       "      <td>{'product': 19168, 'price': 30.27, 'quantity':...</td>\n",
       "      <td>None</td>\n",
       "      <td>None</td>\n",
       "      <td>None</td>\n",
       "      <td>None</td>\n",
       "      <td>None</td>\n",
       "      <td>None</td>\n",
       "      <td>None</td>\n",
       "      <td>None</td>\n",
       "      <td>None</td>\n",
       "      <td>None</td>\n",
       "      <td>None</td>\n",
       "      <td>None</td>\n",
       "      <td>None</td>\n",
       "      <td>None</td>\n",
       "      <td>None</td>\n",
       "    </tr>\n",
       "    <tr>\n",
       "      <th>2</th>\n",
       "      <td>{'product': 18143, 'price': 30.87, 'quantity':...</td>\n",
       "      <td>None</td>\n",
       "      <td>None</td>\n",
       "      <td>None</td>\n",
       "      <td>None</td>\n",
       "      <td>None</td>\n",
       "      <td>None</td>\n",
       "      <td>None</td>\n",
       "      <td>None</td>\n",
       "      <td>None</td>\n",
       "      <td>None</td>\n",
       "      <td>None</td>\n",
       "      <td>None</td>\n",
       "      <td>None</td>\n",
       "      <td>None</td>\n",
       "      <td>None</td>\n",
       "    </tr>\n",
       "    <tr>\n",
       "      <th>3</th>\n",
       "      <td>{'product': 19925, 'price': 59.67, 'quantity':...</td>\n",
       "      <td>None</td>\n",
       "      <td>None</td>\n",
       "      <td>None</td>\n",
       "      <td>None</td>\n",
       "      <td>None</td>\n",
       "      <td>None</td>\n",
       "      <td>None</td>\n",
       "      <td>None</td>\n",
       "      <td>None</td>\n",
       "      <td>None</td>\n",
       "      <td>None</td>\n",
       "      <td>None</td>\n",
       "      <td>None</td>\n",
       "      <td>None</td>\n",
       "      <td>None</td>\n",
       "    </tr>\n",
       "    <tr>\n",
       "      <th>4</th>\n",
       "      <td>{'product': 38, 'price': 129.9, 'quantity': 1.0}</td>\n",
       "      <td>None</td>\n",
       "      <td>None</td>\n",
       "      <td>None</td>\n",
       "      <td>None</td>\n",
       "      <td>None</td>\n",
       "      <td>None</td>\n",
       "      <td>None</td>\n",
       "      <td>None</td>\n",
       "      <td>None</td>\n",
       "      <td>None</td>\n",
       "      <td>None</td>\n",
       "      <td>None</td>\n",
       "      <td>None</td>\n",
       "      <td>None</td>\n",
       "      <td>None</td>\n",
       "    </tr>\n",
       "  </tbody>\n",
       "</table>\n",
       "</div>"
      ],
      "text/plain": [
       "                                                  0     1     2     3     4   \\\n",
       "0  {'product': 6461, 'price': 467.91, 'quantity':...  None  None  None  None   \n",
       "1  {'product': 19168, 'price': 30.27, 'quantity':...  None  None  None  None   \n",
       "2  {'product': 18143, 'price': 30.87, 'quantity':...  None  None  None  None   \n",
       "3  {'product': 19925, 'price': 59.67, 'quantity':...  None  None  None  None   \n",
       "4   {'product': 38, 'price': 129.9, 'quantity': 1.0}  None  None  None  None   \n",
       "\n",
       "     5     6     7     8     9     10    11    12    13    14    15  \n",
       "0  None  None  None  None  None  None  None  None  None  None  None  \n",
       "1  None  None  None  None  None  None  None  None  None  None  None  \n",
       "2  None  None  None  None  None  None  None  None  None  None  None  \n",
       "3  None  None  None  None  None  None  None  None  None  None  None  \n",
       "4  None  None  None  None  None  None  None  None  None  None  None  "
      ]
     },
     "execution_count": 100,
     "metadata": {},
     "output_type": "execute_result"
    }
   ],
   "source": [
    "teste = pd.DataFrame(receita['orderItems'].tolist())\n",
    "teste.head()"
   ]
  },
  {
   "cell_type": "code",
   "execution_count": 85,
   "metadata": {},
   "outputs": [
    {
     "name": "stdout",
     "output_type": "stream",
     "text": [
      "<class 'pandas.core.frame.DataFrame'>\n"
     ]
    },
    {
     "data": {
      "text/plain": [
       "(8864, 1)"
      ]
     },
     "execution_count": 85,
     "metadata": {},
     "output_type": "execute_result"
    }
   ],
   "source": [
    "teste = teste.melt().drop(['variable'], axis=1)\n",
    "print(type(teste))\n",
    "teste.shape"
   ]
  },
  {
   "cell_type": "code",
   "execution_count": 86,
   "metadata": {},
   "outputs": [
    {
     "data": {
      "text/plain": [
       "NoneType"
      ]
     },
     "execution_count": 86,
     "metadata": {},
     "output_type": "execute_result"
    }
   ],
   "source": [
    "type(teste.loc[8859, 'value'])"
   ]
  },
  {
   "cell_type": "code",
   "execution_count": 87,
   "metadata": {},
   "outputs": [
    {
     "data": {
      "text/plain": [
       "(1016, 1)"
      ]
     },
     "execution_count": 87,
     "metadata": {},
     "output_type": "execute_result"
    }
   ],
   "source": [
    "teste.dropna().shape"
   ]
  },
  {
   "cell_type": "code",
   "execution_count": 61,
   "metadata": {},
   "outputs": [
    {
     "data": {
      "text/html": [
       "<div>\n",
       "<style scoped>\n",
       "    .dataframe tbody tr th:only-of-type {\n",
       "        vertical-align: middle;\n",
       "    }\n",
       "\n",
       "    .dataframe tbody tr th {\n",
       "        vertical-align: top;\n",
       "    }\n",
       "\n",
       "    .dataframe thead th {\n",
       "        text-align: right;\n",
       "    }\n",
       "</style>\n",
       "<table border=\"1\" class=\"dataframe\">\n",
       "  <thead>\n",
       "    <tr style=\"text-align: right;\">\n",
       "      <th></th>\n",
       "      <th>price</th>\n",
       "      <th>product</th>\n",
       "      <th>quantity</th>\n",
       "    </tr>\n",
       "  </thead>\n",
       "  <tbody>\n",
       "    <tr>\n",
       "      <th>0</th>\n",
       "      <td>467.91</td>\n",
       "      <td>6461</td>\n",
       "      <td>2.0</td>\n",
       "    </tr>\n",
       "    <tr>\n",
       "      <th>1</th>\n",
       "      <td>30.27</td>\n",
       "      <td>19168</td>\n",
       "      <td>10.0</td>\n",
       "    </tr>\n",
       "    <tr>\n",
       "      <th>2</th>\n",
       "      <td>30.87</td>\n",
       "      <td>18143</td>\n",
       "      <td>22.0</td>\n",
       "    </tr>\n",
       "    <tr>\n",
       "      <th>3</th>\n",
       "      <td>59.67</td>\n",
       "      <td>19925</td>\n",
       "      <td>2.0</td>\n",
       "    </tr>\n",
       "    <tr>\n",
       "      <th>4</th>\n",
       "      <td>129.90</td>\n",
       "      <td>38</td>\n",
       "      <td>1.0</td>\n",
       "    </tr>\n",
       "  </tbody>\n",
       "</table>\n",
       "</div>"
      ],
      "text/plain": [
       "    price  product  quantity\n",
       "0  467.91     6461       2.0\n",
       "1   30.27    19168      10.0\n",
       "2   30.87    18143      22.0\n",
       "3   59.67    19925       2.0\n",
       "4  129.90       38       1.0"
      ]
     },
     "execution_count": 61,
     "metadata": {},
     "output_type": "execute_result"
    }
   ],
   "source": [
    "teste = teste.dropna()\n",
    "teste.head()"
   ]
  },
  {
   "cell_type": "code",
   "execution_count": 58,
   "metadata": {},
   "outputs": [],
   "source": [
    "teste = pd.DataFrame(teste['value'].tolist())"
   ]
  },
  {
   "cell_type": "code",
   "execution_count": 60,
   "metadata": {},
   "outputs": [
    {
     "data": {
      "text/html": [
       "<div>\n",
       "<style scoped>\n",
       "    .dataframe tbody tr th:only-of-type {\n",
       "        vertical-align: middle;\n",
       "    }\n",
       "\n",
       "    .dataframe tbody tr th {\n",
       "        vertical-align: top;\n",
       "    }\n",
       "\n",
       "    .dataframe thead th {\n",
       "        text-align: right;\n",
       "    }\n",
       "</style>\n",
       "<table border=\"1\" class=\"dataframe\">\n",
       "  <thead>\n",
       "    <tr style=\"text-align: right;\">\n",
       "      <th></th>\n",
       "      <th>price</th>\n",
       "      <th>product</th>\n",
       "      <th>quantity</th>\n",
       "    </tr>\n",
       "  </thead>\n",
       "  <tbody>\n",
       "    <tr>\n",
       "      <th>0</th>\n",
       "      <td>467.91</td>\n",
       "      <td>6461</td>\n",
       "      <td>2.0</td>\n",
       "    </tr>\n",
       "    <tr>\n",
       "      <th>1</th>\n",
       "      <td>30.27</td>\n",
       "      <td>19168</td>\n",
       "      <td>10.0</td>\n",
       "    </tr>\n",
       "    <tr>\n",
       "      <th>2</th>\n",
       "      <td>30.87</td>\n",
       "      <td>18143</td>\n",
       "      <td>22.0</td>\n",
       "    </tr>\n",
       "    <tr>\n",
       "      <th>3</th>\n",
       "      <td>59.67</td>\n",
       "      <td>19925</td>\n",
       "      <td>2.0</td>\n",
       "    </tr>\n",
       "    <tr>\n",
       "      <th>4</th>\n",
       "      <td>129.90</td>\n",
       "      <td>38</td>\n",
       "      <td>1.0</td>\n",
       "    </tr>\n",
       "  </tbody>\n",
       "</table>\n",
       "</div>"
      ],
      "text/plain": [
       "    price  product  quantity\n",
       "0  467.91     6461       2.0\n",
       "1   30.27    19168      10.0\n",
       "2   30.87    18143      22.0\n",
       "3   59.67    19925       2.0\n",
       "4  129.90       38       1.0"
      ]
     },
     "execution_count": 60,
     "metadata": {},
     "output_type": "execute_result"
    }
   ],
   "source": [
    "teste.head()"
   ]
  },
  {
   "cell_type": "code",
   "execution_count": 65,
   "metadata": {},
   "outputs": [
    {
     "data": {
      "text/plain": [
       "212022.27000000002"
      ]
     },
     "execution_count": 65,
     "metadata": {},
     "output_type": "execute_result"
    }
   ],
   "source": [
    "total = (teste['price'] * teste['quantity']).sum()\n",
    "total"
   ]
  },
  {
   "cell_type": "code",
   "execution_count": null,
   "metadata": {},
   "outputs": [],
   "source": []
  }
 ],
 "metadata": {
  "kernelspec": {
   "display_name": "Python 3",
   "language": "python",
   "name": "python3"
  },
  "language_info": {
   "codemirror_mode": {
    "name": "ipython",
    "version": 3
   },
   "file_extension": ".py",
   "mimetype": "text/x-python",
   "name": "python",
   "nbconvert_exporter": "python",
   "pygments_lexer": "ipython3",
   "version": "3.6.7"
  }
 },
 "nbformat": 4,
 "nbformat_minor": 2
}
